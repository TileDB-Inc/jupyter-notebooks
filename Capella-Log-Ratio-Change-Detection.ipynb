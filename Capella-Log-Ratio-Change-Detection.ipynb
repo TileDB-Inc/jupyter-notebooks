{
 "cells": [
  {
   "cell_type": "markdown",
   "metadata": {},
   "source": [
    "# Capella Change Detection Example: Log Ratio"
   ]
  },
  {
   "cell_type": "code",
   "execution_count": null,
   "metadata": {},
   "outputs": [],
   "source": [
    "# Log ratio for SAR change detection"
   ]
  },
  {
   "cell_type": "code",
   "execution_count": null,
   "metadata": {},
   "outputs": [],
   "source": [
    "# Required libraries\n",
    "import numpy as np\n",
    "import os\n",
    "import glob\n",
    "from skimage import io \n",
    "from matplotlib import pyplot as plt \n",
    "from matplotlib import rcParams\n",
    "from scipy.ndimage import morphology\n",
    "from scipy.ndimage.filters import uniform_filter\n",
    "from scipy.ndimage.measurements import variance"
   ]
  },
  {
   "cell_type": "code",
   "execution_count": null,
   "metadata": {},
   "outputs": [],
   "source": [
    "# Constants and datapath\n",
    "THRSET = 3.0 # threshold setting for change detection\n",
    "MORPHWINSIZE = 5\n",
    "LEEFILTSIZE = 5\n",
    "\n",
    "DATAPATH = \"c:/data/mosaics/\" # specify the path to data\n",
    "os.chdir(DATAPATH) \n",
    "\n",
    "# Select the .tif files from the directory and sort the images in chronological order\n",
    "image_file = np.sort(glob.glob('*.tif'))\n",
    "n = len(image_file)\n",
    "print(\"There are \" + str(n) + \" images to be analyzed.\")\n",
    "\n",
    "# Context image\n",
    "ci = io.imread(image_file[0],0)"
   ]
  },
  {
   "cell_type": "code",
   "execution_count": null,
   "metadata": {},
   "outputs": [],
   "source": [
    "# Lee Filter function for speckle filtering\n",
    "def lee_filter(img, size):\n",
    "    img_mean = uniform_filter(img, (size, size))\n",
    "    img_sqr_mean = uniform_filter(img**2, (size, size))\n",
    "    img_variance = img_sqr_mean - img_mean**2\n",
    "\n",
    "    overall_variance = variance(img)\n",
    "\n",
    "    img_weights = img_variance / (img_variance + overall_variance)\n",
    "    img_output = img_mean + img_weights * (img - img_mean)\n",
    "    return img_output"
   ]
  },
  {
   "cell_type": "code",
   "execution_count": null,
   "metadata": {},
   "outputs": [],
   "source": [
    "# Main processing code block\n",
    "# Ingests images two at a time, speckle filter the images, performs log ratio change detection, thresholds and saves detection map\n",
    "# into an accumulator, process repeats through all image pairs and buildds a heatmap of change\n",
    "\n",
    "# Read files in two at a time and speckle filter with a 5x5 kernel\n",
    "for i in range(0,n-1):\n",
    "\n",
    "    img1 = io.imread(image_file[i])\n",
    "    lee_filt_img1 = lee_filter(img1, LEEFILTSIZE)\n",
    "\n",
    "    img2 = io.imread(image_file[i+1])\n",
    "    lee_filt_img2 = lee_filter(img2, LEEFILTSIZE)\n",
    "\n",
    "    # Allow division by zero\n",
    "    np.seterr(divide='ignore', invalid='ignore')\n",
    "    \n",
    "    # Calculate the log ratio of image pairs\n",
    "    dIx = np.log(lee_filt_img2/lee_filt_img1)\n",
    "    \n",
    "    # Statistics and thresholding\n",
    "    # Thresholding is empirically derived, needs manual adjustment\n",
    "    thr = np.nanmean(dIx) + THRSET*np.nanstd(dIx)\n",
    "    dIx[dIx < thr] = 0.0\n",
    "    dIx[dIx > thr] = 1.0\n",
    "\n",
    "    # Morphological opening to reduce false alarms    \n",
    "    w = (MORPHWINSIZE, MORPHWINSIZE)\n",
    "    dIx = morphology.grey_opening(dIx, size=w)\n",
    "    \n",
    "    # Build accumulator\n",
    "    if i == 0:\n",
    "        cd = dIx\n",
    "    else:\n",
    "        cd += dIx"
   ]
  },
  {
   "cell_type": "code",
   "execution_count": null,
   "metadata": {
    "scrolled": true
   },
   "outputs": [],
   "source": [
    "# Display change detection results\n",
    "\n",
    "rcParams['figure.figsize'] = 15,8\n",
    "\n",
    "fig, ax = plt.subplots(1,2)\n",
    "ax[0].imshow(ci, 'gray');\n",
    "ax[0].set_title(\"Context Image\");\n",
    "ax[1].imshow(cd);\n",
    "ax[1].set_title(\"Change Detection Heatmap\");"
   ]
  },
  {
   "cell_type": "code",
   "execution_count": null,
   "metadata": {},
   "outputs": [],
   "source": []
  }
 ],
 "metadata": {
  "kernelspec": {
   "display_name": "Python 3",
   "language": "python",
   "name": "python3"
  },
  "language_info": {
   "codemirror_mode": {
    "name": "ipython",
    "version": 3
   },
   "file_extension": ".py",
   "mimetype": "text/x-python",
   "name": "python",
   "nbconvert_exporter": "python",
   "pygments_lexer": "ipython3",
   "version": "3.7.3"
  }
 },
 "nbformat": 4,
 "nbformat_minor": 2
}
