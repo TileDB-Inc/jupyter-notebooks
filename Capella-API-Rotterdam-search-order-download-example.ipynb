{
 "cells": [
  {
   "cell_type": "markdown",
   "metadata": {},
   "source": [
    "# API Demo: Search, Order, and Download Capella's Rotterdam Data Set"
   ]
  },
  {
   "cell_type": "code",
   "execution_count": null,
   "metadata": {},
   "outputs": [],
   "source": [
    "# Capella has collected two AOIs - 10 x 5 km each. Each AOI will be covered from 8am to 8pm over two days, \n",
    "# 6 times each day to simulate roughly two hour revisit at very high resolution. \n",
    "# The main features in the AOIs are: the port, ships (tankers and commercials), shipping containers, cars,\n",
    "# parking lot, stadium, train rails, floating oil tanks, downtown, vegetated areas. \n",
    "# Imagery is be generated using backprojection in map coordinates."
   ]
  },
  {
   "cell_type": "code",
   "execution_count": null,
   "metadata": {},
   "outputs": [],
   "source": [
    "# Required libraries:\n",
    "# requests\n",
    "# json\n",
    "# urllib"
   ]
  },
  {
   "cell_type": "code",
   "execution_count": null,
   "metadata": {},
   "outputs": [],
   "source": [
    "# Your username and password must be saved in a .json file named 'credentials.json' and formatted as follows.\n",
    "# {\"username\": \"yourusername\",\"password\": \"xxxxxxxxx\"}"
   ]
  },
  {
   "cell_type": "code",
   "execution_count": null,
   "metadata": {},
   "outputs": [],
   "source": [
    "import requests\n",
    "import json\n",
    "\n",
    "# Helper function to printformatted JSON using the json module\n",
    "def p(data):\n",
    "    print(json.dumps(data, indent=2))\n",
    "\n",
    "# Capella PROD API endpoints\n",
    "URL = 'https://api.data.capellaspace.com'\n",
    "token = '/token'\n",
    "collections = '/catalog/collections'\n",
    "catsearch = '/catalog/stac/search'\n",
    "orders = '/orders/'\n",
    "\n",
    "# Load my username and password\n",
    "with open('credentials.json') as f:\n",
    "    data = json.load(f)\n",
    "    username = data['username']\n",
    "    password = data['password']\n",
    "\n",
    "\n",
    "#print(username)\n"
   ]
  },
  {
   "cell_type": "code",
   "execution_count": null,
   "metadata": {
    "scrolled": true
   },
   "outputs": [],
   "source": [
    "# Get a valid token from the auth service\n",
    "r = requests.post(URL + token, \n",
    "                  headers = {'Content-Type': 'application/x-www-form-urlencoded'}, auth=(username,password))\n",
    "print(r.json())\n",
    "accesstoken = r.json()[\"accessToken\"]\n",
    "\n",
    "# Print the tokens\n",
    "print(\"Access Token: \" + accesstoken)\n",
    "\n",
    "headers = {'Authorization':'Bearer ' + accesstoken}\n",
    "#print(headers)"
   ]
  },
  {
   "cell_type": "code",
   "execution_count": null,
   "metadata": {},
   "outputs": [],
   "source": [
    "# See what collections are available\n",
    "r = requests.get(URL + collections, headers=headers)\n",
    "\n",
    "# Print results\n",
    "#print(URL + collections)\n",
    "p(r.json())\n"
   ]
  },
  {
   "cell_type": "code",
   "execution_count": null,
   "metadata": {
    "scrolled": true
   },
   "outputs": [],
   "source": [
    "# Posting some simple search filters specifically for Rotterdam data set \n",
    "filters = {\n",
    "  \"bbox\": [4.968939208984375,51.04426252720166,4.033856201171875,52.560346153985355],\n",
    "  \"time\": \"2019-08-01T00:00:00Z/2019-12-31T12:31:12Z\",\n",
    "  \"limit\": 500, # \n",
    "  \"sort\": [{\"field\": \"dtr:start_datetime\"}],\n",
    "}\n",
    "headers = {'Content-Type': 'application/json',\n",
    "  'Accept': 'application/geo+json', 'Authorization':'Bearer ' + accesstoken}\n",
    "r = requests.post(URL + catsearch, json=filters, headers=headers)\n",
    "\n",
    "# Inspect the results\n",
    "p(r.json())"
   ]
  },
  {
   "cell_type": "code",
   "execution_count": null,
   "metadata": {
    "scrolled": true
   },
   "outputs": [],
   "source": [
    "# Make an Order\n",
    "features = r.json()[\"features\"]\n",
    "granulelist = []\n",
    "#p(features)\n",
    "# Loop over all the features from the response and add to an array for an order\n",
    "for f in features:\n",
    "    item = {\"CollectionId\": f[\"collection\"], \"GranuleId\": f[\"id\"]}\n",
    "    granulelist.append(item)\n",
    "\n",
    "myorder = {\"Items\": granulelist}\n",
    "#print(myorder)\n",
    "\n",
    "# Post the order and inspect the result\n",
    "r = requests.post(URL + orders, json=myorder, headers=headers)\n",
    "p(r.json())"
   ]
  },
  {
   "cell_type": "code",
   "execution_count": null,
   "metadata": {},
   "outputs": [],
   "source": [
    "# Get the STAC records with the signed URLs using the /download endpoint\n",
    "myorderid = r.json()[\"orderId\"]\n",
    "r = requests.get(URL + orders + myorderid + '/download', headers=headers)\n",
    "p(r.json())\n"
   ]
  },
  {
   "cell_type": "code",
   "execution_count": null,
   "metadata": {
    "scrolled": true
   },
   "outputs": [],
   "source": [
    "# Download the results\n",
    "features = r.json()\n",
    "#p(features)\n",
    "\n",
    "basefp = 'C:/data/' # Local directory to save data\n",
    "\n",
    "for feature in features:\n",
    "\n",
    "    filepath = feature[\"assets\"][\"HH\"][\"href\"]\n",
    "    #print(filepath)\n",
    "\n",
    "    filename = filepath[filepath.rfind(\"/\")+1:]\n",
    "    #print(filename)\n",
    "    sep = \"?\"\n",
    "    truncname = filename.split(sep, 1)[0]\n",
    "    #print(truncname)\n",
    "    \n",
    "    outfp = basefp + truncname\n",
    "    \n",
    "    import urllib\n",
    "    f = urllib.request.urlretrieve(filepath, outfp)\n"
   ]
  },
  {
   "cell_type": "code",
   "execution_count": null,
   "metadata": {},
   "outputs": [],
   "source": []
  }
 ],
 "metadata": {
  "kernelspec": {
   "display_name": "Python 3",
   "language": "python",
   "name": "python3"
  },
  "language_info": {
   "codemirror_mode": {
    "name": "ipython",
    "version": 3
   },
   "file_extension": ".py",
   "mimetype": "text/x-python",
   "name": "python",
   "nbconvert_exporter": "python",
   "pygments_lexer": "ipython3",
   "version": "3.7.3"
  }
 },
 "nbformat": 4,
 "nbformat_minor": 2
}
