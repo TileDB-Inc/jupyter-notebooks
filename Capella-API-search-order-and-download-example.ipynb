{
 "cells": [
  {
   "cell_type": "markdown",
   "metadata": {},
   "source": [
    "# Capella API: Search, Order, and Download Tutorial"
   ]
  },
  {
   "cell_type": "code",
   "execution_count": null,
   "metadata": {},
   "outputs": [],
   "source": [
    "# Required libraries:\n",
    "# requests\n",
    "# json\n",
    "# folium\n",
    "# urllib"
   ]
  },
  {
   "cell_type": "code",
   "execution_count": null,
   "metadata": {},
   "outputs": [],
   "source": [
    "!pip install folium"
   ]
  },
  {
   "cell_type": "code",
   "execution_count": null,
   "metadata": {},
   "outputs": [],
   "source": [
    "# Your username and password must be saved in a .json file named 'credentials.json' and formatted as follows.\n",
    "# {\"username\": \"yourusername\",\"password\": \"xxxxxxxxx\"}"
   ]
  },
  {
   "cell_type": "code",
   "execution_count": null,
   "metadata": {},
   "outputs": [],
   "source": [
    "import requests\n",
    "import json\n",
    "\n",
    "# Helper function to printformatted JSON using the json module\n",
    "def p(data):\n",
    "    print(json.dumps(data, indent=2))\n",
    "\n",
    "# Capella PROD API endpoints\n",
    "URL = 'https://api.data.capellaspace.com'\n",
    "token = '/token'\n",
    "collections = '/catalog/collections'\n",
    "catsearch = '/catalog/stac/search'\n",
    "orders = '/orders/'\n",
    "\n",
    "#Load my username and password\n",
    "\n",
    "with open('credentials.json') as f:\n",
    "    data = json.load(f)\n",
    "    username = data['username']\n",
    "    password = data['password']"
   ]
  },
  {
   "cell_type": "code",
   "execution_count": null,
   "metadata": {},
   "outputs": [],
   "source": [
    "#Get a valid token from the auth service, access tokens are valid for 15 minutes\n",
    "r = requests.post(URL + token, \n",
    "                  headers = {'Content-Type': 'application/x-www-form-urlencoded'}, auth=(username,password))\n",
    "\n",
    "accesstoken = r.json()[\"accessToken\"]\n",
    "\n",
    "#print the token\n",
    "#print(\"Access Token: \" + accesstoken)\n",
    "\n",
    "headers = {'Authorization':'Bearer ' + accesstoken}"
   ]
  },
  {
   "cell_type": "code",
   "execution_count": null,
   "metadata": {},
   "outputs": [],
   "source": [
    "#See what collections are available, currently there are four collections available\n",
    "r = requests.get(URL + collections, headers=headers)\n",
    "print(URL + collections)\n",
    "p(r.json())"
   ]
  },
  {
   "cell_type": "code",
   "execution_count": null,
   "metadata": {},
   "outputs": [],
   "source": [
    "# Post search filters\n",
    "filters = {\n",
    "  \"bbox\": [-121.1298,41.3422,-119.4747,42.1484], # lower left coodinate and upper right coordinate, in decimal degrees\n",
    "  \"time\": \"2019-01-01T00:00:00Z/2019-12-31T12:31:12Z\", # start date/end date and time in YYYY-MM-DDTHH:MM:SSZ format\n",
    "  \"limit\": 50, # overwrite the default pagination limit of 10, adjust as necessary\n",
    "  \"query\": {\"sar:instrument_mode\": {\"eq\": \"IW\"}}, # add query parameters to filter search results\n",
    "#            \"sar:pass_direction\": {\"eq\": \"ascending\"}, \n",
    "#            \"sar:type\": {\"eq\":\"GRD\"}},\n",
    "  \"sort\": [{\"field\": \"dtr:start_datetime\",\"direction\": \"desc\"}],\n",
    "}\n",
    "headers = {'Content-Type': 'application/json',\n",
    "  'Accept': 'application/geo+json', 'Authorization':'Bearer ' + accesstoken}\n",
    "r = requests.post(URL + catsearch, json=filters, headers=headers)\n",
    "\n",
    "# Inspect the results\n",
    "p(r.json())"
   ]
  },
  {
   "cell_type": "code",
   "execution_count": null,
   "metadata": {
    "scrolled": true
   },
   "outputs": [],
   "source": [
    "# Display the results on a folium map\n",
    "import folium\n",
    "loc = [(filters[\"bbox\"][1]+filters[\"bbox\"][3])/2, (filters[\"bbox\"][0]+filters[\"bbox\"][2])/2] \n",
    "#print(loc)\n",
    "\n",
    "m = folium.Map(location=[32, -118],zoom_start=4)\n",
    "folium.GeoJson(\n",
    "    r.text,\n",
    ").add_to(m)\n",
    "\n",
    "m"
   ]
  },
  {
   "cell_type": "code",
   "execution_count": null,
   "metadata": {},
   "outputs": [],
   "source": [
    "# Make an Order\n",
    "features = r.json()[\"features\"]\n",
    "granulelist = []\n",
    "\n",
    "# Loop over all the features from the response and add to an array for an order\n",
    "for f in features:\n",
    "    item = {\"CollectionId\": f[\"collection\"], \"GranuleId\": f[\"id\"]}\n",
    "    granulelist.append(item)\n",
    "    \n",
    "myorder = {\"Items\": granulelist}\n",
    "\n",
    "# Post the order and inspect the result\n",
    "r = requests.post(URL + orders, json=myorder, headers=headers)\n",
    "p(r.json())"
   ]
  },
  {
   "cell_type": "code",
   "execution_count": null,
   "metadata": {},
   "outputs": [],
   "source": [
    "# Get the STAC records with the signed URLs using the /download endpoint\n",
    "myorderid = r.json()[\"orderId\"]\n",
    "r = requests.get(URL + orders + myorderid + '/download', headers=headers)\n",
    "p(r.json())"
   ]
  },
  {
   "cell_type": "code",
   "execution_count": null,
   "metadata": {},
   "outputs": [],
   "source": [
    "# Download the results\n",
    "features = r.json()\n",
    "     \n",
    "basefp = 'C:/data/SAR/test/' # Local directory #to save data\n",
    "\n",
    "for feature in features:\n",
    "           \n",
    "    filepath = feature[\"assets\"][\"VH-iw1\"][\"href\"] # the second nested dictionary (\"VH-iw1\" here) must be changed for different assets\n",
    "    # e.g. filepath = feature[\"assets\"][\"VH-iw1-metadata\"][\"href\"] will return the url for the assets .xml metadata file\n",
    "    #print(filepath)\n",
    "\n",
    "    filename = filepath[filepath.rfind(\"/\")+1:]\n",
    "    #print(filename)\n",
    "    sep = \"?\"\n",
    "    truncname = filename.split(sep, 1)[0]\n",
    "    #print(truncname)\n",
    "    \n",
    "    outfp = basefp + truncname\n",
    "    \n",
    "    import urllib\n",
    "    f = urllib.request.urlretrieve(filepath, outfp)\n"
   ]
  },
  {
   "cell_type": "code",
   "execution_count": null,
   "metadata": {},
   "outputs": [],
   "source": []
  },
  {
   "cell_type": "code",
   "execution_count": null,
   "metadata": {},
   "outputs": [],
   "source": []
  }
 ],
 "metadata": {
  "kernelspec": {
   "display_name": "Python 3",
   "language": "python",
   "name": "python3"
  },
  "language_info": {
   "codemirror_mode": {
    "name": "ipython",
    "version": 3
   },
   "file_extension": ".py",
   "mimetype": "text/x-python",
   "name": "python",
   "nbconvert_exporter": "python",
   "pygments_lexer": "ipython3",
   "version": "3.7.3"
  }
 },
 "nbformat": 4,
 "nbformat_minor": 2
}
