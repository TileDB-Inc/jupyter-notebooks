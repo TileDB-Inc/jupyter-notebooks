{
 "cells": [
  {
   "cell_type": "markdown",
   "metadata": {},
   "source": [
    "# Capella API: Tasking Tutorial"
   ]
  },
  {
   "cell_type": "code",
   "execution_count": null,
   "metadata": {},
   "outputs": [],
   "source": [
    "# Required libraries:\n",
    "# requests\n",
    "# json\n",
    "# geojsonio"
   ]
  },
  {
   "cell_type": "markdown",
   "metadata": {},
   "source": [
    "Your username and password must be saved in a .json file named 'credentials.json' and formatted as follows.\n",
    "\n",
    "{\"username\": \"yourusername\",\"password\": \"xxxxxxxxx\"}"
   ]
  },
  {
   "cell_type": "code",
   "execution_count": null,
   "metadata": {},
   "outputs": [],
   "source": [
    "!pip install geojsonio # skip this if the library is already installed"
   ]
  },
  {
   "cell_type": "markdown",
   "metadata": {},
   "source": [
    "### Import required libraries, build a print utility function, assign API endpoints and load Credentials"
   ]
  },
  {
   "cell_type": "code",
   "execution_count": null,
   "metadata": {},
   "outputs": [],
   "source": [
    "import requests\n",
    "import json\n",
    "\n",
    "# Helper function to printformatted JSON using the json module\n",
    "def p(data):\n",
    "    print(json.dumps(data, indent=2))\n",
    "\n",
    "# Capella API endpoints\n",
    "URL = 'https://api.data.capellaspace.com'\n",
    "token = '/token'\n",
    "task = '/task/'\n",
    "user = '/user/'\n",
    "\n",
    "# Load my username and password\n",
    "with open('credentials.json') as f:\n",
    "    data = json.load(f)\n",
    "    username = data['username']\n",
    "    password = data['password']"
   ]
  },
  {
   "cell_type": "markdown",
   "metadata": {},
   "source": [
    "### Get and Print Access Token"
   ]
  },
  {
   "cell_type": "code",
   "execution_count": null,
   "metadata": {},
   "outputs": [],
   "source": [
    "# Get the token\n",
    "r = requests.post(URL + token, \n",
    "                  headers = {'Content-Type': 'application/x-www-form-urlencoded'}, auth=(username,password))\n",
    "\n",
    "accesstoken = r.json()[\"accessToken\"]\n",
    "\n",
    "# Print the token\n",
    "print(\"Access Token: \" + accesstoken)"
   ]
  },
  {
   "cell_type": "markdown",
   "metadata": {},
   "source": [
    "### Get a User ID"
   ]
  },
  {
   "cell_type": "code",
   "execution_count": null,
   "metadata": {},
   "outputs": [],
   "source": [
    "# Get user ID\n",
    "headers = {'Authorization':'Bearer ' + accesstoken}\n",
    "r = requests.get(URL + user, headers=headers)\n",
    "userid = r.json()[\"id\"]\n",
    "p(userid)\n"
   ]
  },
  {
   "cell_type": "markdown",
   "metadata": {},
   "source": [
    "### Post a Tasking Request"
   ]
  },
  {
   "cell_type": "code",
   "execution_count": null,
   "metadata": {},
   "outputs": [],
   "source": [
    "# Specify tasking request location geometry and properties\n",
    "taskingrequest = {\n",
    "    \"geometry\": {\n",
    "      \"coordinates\": [\n",
    "        -122.40340769290924,\n",
    "        37.77348366900006,\n",
    "      ],\n",
    "      \"type\": \"Point\"\n",
    "    },\n",
    "    \"properties\": {\n",
    "      \"userId\": userid,\n",
    "      \"collectMode\": \"stripmap\",# \n",
    "      \"taskingrequestDescription\": \"Capella office - San Francisco, CA\",\n",
    "      \"taskingrequestName\": \"Capella HQ\",\n",
    "      \"windowOpen\": \"2019-12-13T00:00:00.000Z\",# Set this to some future time from now\n",
    "      \"windowDuration\": 64800,# time in seconds\n",
    "      \"taskingOption\": \"standard\",\n",
    "    },\n",
    "    \"type\": \"Feature\"\n",
    "}\n",
    "headers = {'Authorization':'Bearer ' + accesstoken}\n",
    "r = requests.post(URL + task, json=taskingrequest, headers=headers)\n",
    "requestid = r.json()[\"taskingrequestId\"]\n",
    "\n",
    "# Print the response\n",
    "p(r.json())"
   ]
  },
  {
   "cell_type": "markdown",
   "metadata": {},
   "source": [
    "### Get Submitted Tasking Request Status and Display tasking Location"
   ]
  },
  {
   "cell_type": "code",
   "execution_count": null,
   "metadata": {},
   "outputs": [],
   "source": [
    "# Return the status of the submitted tasking request and map the location\n",
    "r = requests.get(URL + task + requestid, params={}, headers=headers)\n",
    "print(r.json())\n",
    "\n",
    "# Show the tasking location in geojsonio\n",
    "import geojsonio\n",
    "url = geojsonio.display(r.text)"
   ]
  },
  {
   "cell_type": "markdown",
   "metadata": {},
   "source": [
    "### Get All Tasking Requests for User ID and Check Status"
   ]
  },
  {
   "cell_type": "code",
   "execution_count": null,
   "metadata": {},
   "outputs": [],
   "source": [
    "# Return all tasking requests for a customer id and check the status\n",
    "r = requests.get(URL + task, params={\"customerId\":userid}, headers=headers)\n",
    "\n",
    "# Loop over all the features from the response\n",
    "geojson = r.json()\n",
    "for f in geojson:\n",
    "    # Print the ID for each feature\n",
    "    p(f[\"properties\"][\"taskingrequestId\"])\n",
    "    p(f[\"properties\"][\"requestStatus\"])"
   ]
  }
 ],
 "metadata": {
  "kernelspec": {
   "display_name": "Python 3",
   "language": "python",
   "name": "python3"
  },
  "language_info": {
   "codemirror_mode": {
    "name": "ipython",
    "version": 3
   },
   "file_extension": ".py",
   "mimetype": "text/x-python",
   "name": "python",
   "nbconvert_exporter": "python",
   "pygments_lexer": "ipython3",
   "version": "3.7.3"
  }
 },
 "nbformat": 4,
 "nbformat_minor": 2
}
