{
 "cells": [
  {
   "cell_type": "markdown",
   "metadata": {},
   "source": [
    "# Capella API: Search, Order, and View Tutorial"
   ]
  },
  {
   "cell_type": "code",
   "execution_count": null,
   "metadata": {},
   "outputs": [],
   "source": [
    "# Required libraries:\n",
    "# requests\n",
    "# json\n",
    "# folium\n",
    "# rasterio\n",
    "# from skimage import exposure\n",
    "# from matplotlib import rcParams"
   ]
  },
  {
   "cell_type": "code",
   "execution_count": null,
   "metadata": {},
   "outputs": [],
   "source": [
    "!pip install folium rasterio "
   ]
  },
  {
   "cell_type": "markdown",
   "metadata": {},
   "source": [
    "Your username and password must be saved in a .json file named 'credentials.json' and formatted as follows.\n",
    "\n",
    "{\"username\": \"yourusername\",\"password\": \"xxxxxxxxx\"}"
   ]
  },
  {
   "cell_type": "markdown",
   "metadata": {},
   "source": [
    "### Import required libraries, build a print utility function, assign API endpoints and load Credentials"
   ]
  },
  {
   "cell_type": "code",
   "execution_count": null,
   "metadata": {},
   "outputs": [],
   "source": [
    "import requests\n",
    "import json\n",
    "\n",
    "# JSON utility function\n",
    "def p(data):\n",
    "    print(json.dumps(data, indent=2))\n",
    "\n",
    "# Capella API endpoints\n",
    "URL = 'https://api.data.capellaspace.com'\n",
    "token = '/token'\n",
    "collections = '/catalog/collections'\n",
    "catsearch = '/catalog/stac/search'\n",
    "orders = '/orders/'\n",
    "\n",
    "# Load username and password\n",
    "with open('credentials.json') as f:\n",
    "    data = json.load(f)\n",
    "    username = data['username']\n",
    "    password = data['password']"
   ]
  },
  {
   "cell_type": "markdown",
   "metadata": {},
   "source": [
    "### Get and Print Access Token"
   ]
  },
  {
   "cell_type": "code",
   "execution_count": null,
   "metadata": {},
   "outputs": [],
   "source": [
    "# Get token\n",
    "r = requests.post(URL + token, \n",
    "                  headers = {'Content-Type': 'application/x-www-form-urlencoded'}, auth=(username,password))\n",
    "\n",
    "accesstoken = r.json()[\"accessToken\"]\n",
    "\n",
    "# print the token\n",
    "print(\"Access Token: \" + accesstoken)\n",
    "\n",
    "headers = {'Authorization':'Bearer ' + accesstoken}"
   ]
  },
  {
   "cell_type": "markdown",
   "metadata": {},
   "source": [
    "### Print Available Collections"
   ]
  },
  {
   "cell_type": "code",
   "execution_count": null,
   "metadata": {},
   "outputs": [],
   "source": [
    "# See what collections are available\n",
    "r = requests.get(URL + collections, headers=headers)\n",
    "\n",
    "# Print results\n",
    "p(r.json())"
   ]
  },
  {
   "cell_type": "markdown",
   "metadata": {},
   "source": [
    "### Post Search Filters, Print the Results"
   ]
  },
  {
   "cell_type": "code",
   "execution_count": null,
   "metadata": {},
   "outputs": [],
   "source": [
    "# Post search filters\n",
    "filters = {\n",
    "  \"bbox\": [-121.1298,41.3422,-119.4747,42.1484], # lower left coodinate and upper right coordinate, in decimal degrees\n",
    "  \"time\": \"2019-01-01T00:00:00Z/2019-12-31T12:31:12Z\", # start date/end date and time in YYYY-MM-DDTHH:MM:SSZ format\n",
    "  \"limit\": 50, # overwrite the default pagination limit of 10, adjust as necessary\n",
    "  \"query\": {\"sar:instrument_mode\": {\"eq\": \"IW\"}, # add query parameters to filter search results\n",
    "            \"sar:pass_direction\": {\"eq\": \"ascending\"}, \n",
    "            \"sar:type\": {\"eq\":\"GRD\"}},\n",
    "  \"sort\": [{\"field\": \"dtr:start_datetime\",\"direction\": \"desc\"}],\n",
    "}\n",
    "headers = {'Content-Type': 'application/json',\n",
    "  'Accept': 'application/geo+json', 'Authorization':'Bearer ' + accesstoken}\n",
    "r = requests.post(URL + catsearch, json=filters, headers=headers)\n",
    "\n",
    "# Inspect the results\n",
    "p(r.json())"
   ]
  },
  {
   "cell_type": "markdown",
   "metadata": {},
   "source": [
    "### View the Results of the Search"
   ]
  },
  {
   "cell_type": "code",
   "execution_count": null,
   "metadata": {
    "scrolled": true
   },
   "outputs": [],
   "source": [
    "# Display the results on a folium map\n",
    "import folium\n",
    "loc = [(filters[\"bbox\"][1]+filters[\"bbox\"][3])/2, (filters[\"bbox\"][0]+filters[\"bbox\"][2])/2] \n",
    "\n",
    "m = folium.Map(location=[32, -118],zoom_start=4)\n",
    "folium.GeoJson(\n",
    "    r.text,\n",
    ").add_to(m)\n",
    "\n",
    "m"
   ]
  },
  {
   "cell_type": "markdown",
   "metadata": {},
   "source": [
    "### Make and Post an Order"
   ]
  },
  {
   "cell_type": "code",
   "execution_count": null,
   "metadata": {},
   "outputs": [],
   "source": [
    "# Build the Order\n",
    "features = r.json()[\"features\"]\n",
    "granulelist = []\n",
    "\n",
    "# Loop over all the features from the response and add to an array for an order\n",
    "for f in features:\n",
    "    item = {\"CollectionId\": f[\"collection\"], \"GranuleId\": f[\"id\"]}\n",
    "    granulelist.append(item)\n",
    "    \n",
    "myorder = {\"Items\": granulelist}\n",
    "\n",
    "# Post the order and inspect the result\n",
    "r = requests.post(URL + orders, json=myorder, headers=headers)\n",
    "p(r.json())"
   ]
  },
  {
   "cell_type": "markdown",
   "metadata": {},
   "source": [
    "### Get the STAC records with the signed URLs using the /download endpoint, Print the Result"
   ]
  },
  {
   "cell_type": "code",
   "execution_count": null,
   "metadata": {},
   "outputs": [],
   "source": [
    "myorderid = r.json()[\"orderId\"]\n",
    "r = requests.get(URL + orders + myorderid + '/download', headers=headers)\n",
    "p(r.json())"
   ]
  },
  {
   "cell_type": "markdown",
   "metadata": {},
   "source": [
    "### Visualize the Results"
   ]
  },
  {
   "cell_type": "markdown",
   "metadata": {},
   "source": [
    "A Cloud Optimized GeoTIFF (COG) is a geoTIFF file which is hosted on a cloud such as AWS S3, Microsoft Azure, or Apache. The COG's format is optimized for remote reads. This section reads the COG for the downloaded asset."
   ]
  },
  {
   "cell_type": "code",
   "execution_count": null,
   "metadata": {},
   "outputs": [],
   "source": [
    "from matplotlib import rcParams\n",
    "import cv2\n",
    "import numpy as np\n",
    "\n",
    "#Open and inspect one of the bands\n",
    "features = r.json()\n",
    "\n",
    "filepath = features[0][\"assets\"][\"VH\"][\"href\"]\n",
    "print(filepath)# print the url to download this asset\n",
    "\n",
    "# Open the file with Rasterio\n",
    "import rasterio\n",
    "from skimage import exposure\n",
    "from matplotlib import pyplot as plt\n",
    "Session = rasterio.Env(\n",
    "            GDAL_DISABLE_READDIR_ON_OPEN='YES',\n",
    "            CPL_VSIL_CURL_USE_HEAD='NO',\n",
    "            )\n",
    "\n",
    "with Session:\n",
    "    with rasterio.open(filepath) as src:\n",
    "        oviews = src.overviews(1)\n",
    "\n",
    "        # Retrieve the smallest thumbnail\n",
    "        oview = oviews[-1]\n",
    "        print('Decimation factor= {}'.format(oview))\n",
    "        # NOTE this is using a 'decimated read' (http://rasterio.readthedocs.io/en/latest/topics/resampling.html)\n",
    "        thumbnail = src.read(1, out_shape=(1, int(src.height // oview), int(src.width // oview))).astype(np.uint8)\n",
    "        equ = exposure.adjust_log(thumbnail, gain=.5)\n",
    "        rcParams['figure.figsize'] = 15,8\n",
    "        plt.imshow(equ, 'gray')\n",
    "        plt.title('Overview - Band 4 {}'.format(thumbnail.shape))\n",
    "        plt.xlabel('Column #')\n",
    "        plt.ylabel('Row #')\n"
   ]
  }
 ],
 "metadata": {
  "kernelspec": {
   "display_name": "Python 3",
   "language": "python",
   "name": "python3"
  },
  "language_info": {
   "codemirror_mode": {
    "name": "ipython",
    "version": 3
   },
   "file_extension": ".py",
   "mimetype": "text/x-python",
   "name": "python",
   "nbconvert_exporter": "python",
   "pygments_lexer": "ipython3",
   "version": "3.7.3"
  }
 },
 "nbformat": 4,
 "nbformat_minor": 2
}
