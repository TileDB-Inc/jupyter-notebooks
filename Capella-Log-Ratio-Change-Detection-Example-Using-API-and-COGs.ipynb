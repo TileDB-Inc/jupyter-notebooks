{
 "cells": [
  {
   "cell_type": "markdown",
   "metadata": {},
   "source": [
    "# Change Detection Example: Log Ratio\n",
    "\n",
    "This example shows how the Capella API can be used to fetch a time series stack of data, read data for a given bounding box directly from cloud optimized geotiffs stored in Capella's S3 bucket, and apply a log ratio change detection with an accumulator. To run this notebook, you will need a Capella API account, with credentials saved in a credentials.json file."
   ]
  },
  {
   "cell_type": "code",
   "execution_count": null,
   "metadata": {
    "scrolled": true
   },
   "outputs": [],
   "source": [
    "# Make the notebook interactive\n",
    "%matplotlib notebook\n",
    "\n",
    "import requests\n",
    "import json\n",
    "import rasterio\n",
    "import numpy as np\n",
    "from pyproj import Transformer\n",
    "from rasterio.plot import show\n",
    "from rasterio.windows import Window\n",
    "from skimage import exposure\n",
    "from matplotlib import rcParams\n",
    "from matplotlib import pyplot\n",
    "from matplotlib import pyplot as plt\n",
    "from scipy.ndimage import morphology\n",
    "from scipy.ndimage.filters import uniform_filter\n",
    "from scipy.ndimage.measurements import variance"
   ]
  },
  {
   "cell_type": "markdown",
   "metadata": {},
   "source": [
    "### Set up project variables"
   ]
  },
  {
   "cell_type": "code",
   "execution_count": null,
   "metadata": {},
   "outputs": [],
   "source": [
    "# Bounding box definition\n",
    "bbox = [4.421052932739258, 51.88973610006440, 4.437961578369141, 51.89696629368307]\n",
    "timerange = \"2019-08-22T00:00:00Z/2019-08-24T23:59:00Z\"\n",
    "\n",
    "# Threshold setting for change detection\n",
    "THRSET = 2 \n",
    "\n",
    "# Windows sizes for filtering\n",
    "MORPHWINSIZE = 3 # window size for Morphological filtering\n",
    "FILTSIZE = 3 # window size for speckle filter"
   ]
  },
  {
   "cell_type": "markdown",
   "metadata": {},
   "source": [
    "### Function to apply speckle filtering"
   ]
  },
  {
   "cell_type": "code",
   "execution_count": null,
   "metadata": {},
   "outputs": [],
   "source": [
    "def lee_filter(img, size):\n",
    "    img_mean = uniform_filter(img, (size, size))\n",
    "    img_sqr_mean = uniform_filter(img**2, (size, size))\n",
    "    img_variance = img_sqr_mean - img_mean**2\n",
    "\n",
    "    overall_variance = variance(img)\n",
    "\n",
    "    img_weights = img_variance / (img_variance + overall_variance)\n",
    "    img_output = img_mean + img_weights * (img - img_mean)\n",
    "    return img_output"
   ]
  },
  {
   "cell_type": "markdown",
   "metadata": {},
   "source": [
    "### Function to reproject bounding box coordinates to the SAR data coordinate system"
   ]
  },
  {
   "cell_type": "code",
   "execution_count": null,
   "metadata": {},
   "outputs": [],
   "source": [
    "def reproject_bbox(bb, epsg):\n",
    "    transformer = Transformer.from_crs(\"EPSG:4326\", epsg, always_xy=True)\n",
    "    obb = [0] * 4\n",
    "    obb[0], obb[1] = transformer.transform(bb[0], bb[1])\n",
    "    obb[2], obb[3] = transformer.transform(bb[2], bb[3])\n",
    "    return obb   "
   ]
  },
  {
   "cell_type": "markdown",
   "metadata": {},
   "source": [
    "### Load API credentials and get an API token"
   ]
  },
  {
   "cell_type": "code",
   "execution_count": null,
   "metadata": {},
   "outputs": [],
   "source": [
    "# Load username and password\n",
    "with open('credentials.json') as f:\n",
    "    data = json.load(f)\n",
    "    username = data['username']\n",
    "    password = data['password']"
   ]
  },
  {
   "cell_type": "code",
   "execution_count": null,
   "metadata": {},
   "outputs": [],
   "source": [
    "# Get token\n",
    "r = requests.post('https://api.data.capellaspace.com/token', \n",
    "                  headers = {'Content-Type': 'application/x-www-form-urlencoded'}, auth=(username,password))\n",
    "accesstoken = r.json()[\"accessToken\"]\n",
    "headers = {'Authorization':'Bearer ' + accesstoken}"
   ]
  },
  {
   "cell_type": "markdown",
   "metadata": {},
   "source": [
    "### Use the API to search for Capella SAR data"
   ]
  },
  {
   "cell_type": "code",
   "execution_count": null,
   "metadata": {},
   "outputs": [],
   "source": [
    "# Post search filters\n",
    "filters = {\n",
    "    \"datetime\": timerange,\n",
    "    \"bbox\": bbox,\n",
    "    \"collections\": [\"rotterdam-aerial-mosaic\"],\n",
    "    \"query\": {\"sar:instrument_mode\": {\"eq\": \"stripmap\"},  \n",
    "            \"sar:product_type\": {\"eq\":\"GEO\"}},\n",
    "    \"sort\": [{\"field\": \"dtr:start_datetime\",\"direction\": \"desc\"}],\n",
    "    \"limit\": 50\n",
    "}\n",
    "\n",
    "headers = {'Content-Type': 'application/json',\n",
    "  'Accept': 'application/geo+json', 'Authorization':'Bearer ' + accesstoken}\n",
    "r = requests.post('https://api.data.capellaspace.com/catalog/search', json=filters, headers=headers)"
   ]
  },
  {
   "cell_type": "code",
   "execution_count": null,
   "metadata": {},
   "outputs": [],
   "source": [
    "# Build the Order\n",
    "granulelist = []\n",
    "\n",
    "# Loop over all the features from the response and add to an array for an order\n",
    "for f in r.json()[\"features\"]:\n",
    "    item = {\"CollectionId\": f[\"collection\"], \"GranuleId\": f[\"id\"]}\n",
    "    granulelist.append(item)\n",
    "    \n",
    "myorder = {\"Items\": granulelist}\n",
    "\n",
    "# Post the order and inspect the result\n",
    "r = requests.post('https://api.data.capellaspace.com/orders', json=myorder, headers=headers)"
   ]
  },
  {
   "cell_type": "code",
   "execution_count": null,
   "metadata": {},
   "outputs": [],
   "source": [
    "myorderid = r.json()[\"orderId\"]\n",
    "r = requests.get('https://api.data.capellaspace.com/orders/' + myorderid + '/download', headers=headers)"
   ]
  },
  {
   "cell_type": "markdown",
   "metadata": {},
   "source": [
    "### Build a change heatmap from the time series\n",
    "\n",
    "Ingests images two at a time by reading only the area within the bounding box from the cloud optimized geotiffs, speckle filters the images, performs log ratio change detection, thresholds and saves detection map into an accumulator, process repeats through all image pairs and builds a heatmap of change"
   ]
  },
  {
   "cell_type": "code",
   "execution_count": null,
   "metadata": {},
   "outputs": [],
   "source": [
    "# Read files in two at a time and speckle filters\n",
    "\n",
    "features = r.json()\n",
    "n = len(features)\n",
    "print(\"There are \" + str(n) + \" images to be analyzed.\")\n",
    "\n",
    "# Open the file with Rasterio\n",
    "Session = rasterio.Env(\n",
    "            GDAL_DISABLE_READDIR_ON_OPEN='YES',\n",
    "            CPL_VSIL_CURL_USE_HEAD='NO',\n",
    "            )\n",
    "\n",
    "for i in range(0,n-1):   \n",
    "    with Session:\n",
    "        filepath = features[i][\"assets\"][\"HH\"][\"href\"]\n",
    "        with rasterio.open(filepath) as src:\n",
    "            meta = src.meta\n",
    "            rbbox = reproject_bbox(bbox, src.crs)\n",
    "            w = rasterio.windows.from_bounds(rbbox[0], rbbox[1], rbbox[2], rbbox[3], src.transform)\n",
    "            img1 = src.read(1, window=w)\n",
    "            img1[img1 == meta['nodata']] = 0\n",
    "            lee_filt_img1 = lee_filter(img1, FILTSIZE)\n",
    "        filepath = features[i+1][\"assets\"][\"HH\"][\"href\"]\n",
    "        with rasterio.open(filepath) as src:\n",
    "            meta = src.meta\n",
    "            rbbox = reproject_bbox(bbox, src.crs)\n",
    "            w = rasterio.windows.from_bounds(rbbox[0], rbbox[1], rbbox[2], rbbox[3], src.transform)\n",
    "            img2 = src.read(1, window=w)\n",
    "            img2[img2 == meta['nodata']] = 0\n",
    "            lee_filt_img2 = lee_filter(img2, FILTSIZE)\n",
    "\n",
    "    # Allow division by zero\n",
    "    np.seterr(divide='ignore', invalid='ignore')\n",
    "    \n",
    "    # Calculate the log ratio of image pairs\n",
    "    dIx = np.log(lee_filt_img2/lee_filt_img1)\n",
    "    \n",
    "    # Statistics and thresholding\n",
    "    # Thresholding is empirically derived, requires manual adjustment of THRSET constant\n",
    "    thr = np.nanmean(dIx) + THRSET*np.nanstd(dIx)\n",
    "    dIx[dIx < thr] = 0.0\n",
    "    dIx[dIx > thr] = 1.0\n",
    "\n",
    "    # Morphological opening to reduce false alarms    \n",
    "    w = (MORPHWINSIZE, MORPHWINSIZE)\n",
    "    dIx = morphology.grey_opening(dIx, size=w)\n",
    "    \n",
    "    # Build accumulator\n",
    "    if i == 0:\n",
    "        cd = dIx\n",
    "    else:\n",
    "        cd += dIx"
   ]
  },
  {
   "cell_type": "markdown",
   "metadata": {},
   "source": [
    "### Display the change detection result"
   ]
  },
  {
   "cell_type": "code",
   "execution_count": null,
   "metadata": {},
   "outputs": [],
   "source": [
    "with Session:\n",
    "        filepath = features[0][\"assets\"][\"HH\"][\"href\"]\n",
    "        with rasterio.open(filepath) as src:\n",
    "            meta = src.meta\n",
    "            rbbox = reproject_bbox(bbox, src.crs)\n",
    "            w = rasterio.windows.from_bounds(rbbox[0], rbbox[1], rbbox[2], rbbox[3], src.transform)\n",
    "            ci = src.read(1, window=w)\n",
    "            ci[ci == meta['nodata']] = 0\n",
    "            ci = lee_filter(ci, FILTSIZE)\n",
    "            ci = exposure.adjust_log(ci, gain=10)\n",
    "\n",
    "rcParams['figure.figsize'] = 10,5\n",
    "fig, ax = plt.subplots(1,2)\n",
    "ax[0].imshow(ci, 'gray');\n",
    "ax[0].set_title(\"Context Image\");\n",
    "ax[1].imshow(cd);\n",
    "ax[1].set_title(\"Change Detection Heatmap\");"
   ]
  },
  {
   "cell_type": "code",
   "execution_count": null,
   "metadata": {},
   "outputs": [],
   "source": []
  }
 ],
 "metadata": {
  "kernelspec": {
   "display_name": "Python 3",
   "language": "python",
   "name": "python3"
  },
  "language_info": {
   "codemirror_mode": {
    "name": "ipython",
    "version": 3
   },
   "file_extension": ".py",
   "mimetype": "text/x-python",
   "name": "python",
   "nbconvert_exporter": "python",
   "pygments_lexer": "ipython3",
   "version": "3.7.3"
  }
 },
 "nbformat": 4,
 "nbformat_minor": 2
}
