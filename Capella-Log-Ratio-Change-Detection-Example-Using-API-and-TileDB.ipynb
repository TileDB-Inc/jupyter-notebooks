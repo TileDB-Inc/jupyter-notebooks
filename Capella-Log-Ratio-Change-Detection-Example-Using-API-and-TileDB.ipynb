{
 "cells": [
  {
   "cell_type": "markdown",
   "metadata": {},
   "source": [
    "# Change Detection Example: Log Ratio\n",
    "\n",
    "This example shows how the Capella API can be used to fetch a time series stack of data, read data for a given bounding box directly from TileDB Cloud, and apply a log ratio change detection with an accumulator."
   ]
  },
  {
   "cell_type": "code",
   "execution_count": 56,
   "metadata": {
    "scrolled": true
   },
   "outputs": [],
   "source": [
    "import json\n",
    "\n",
    "from matplotlib import rcParams\n",
    "from matplotlib import pyplot as plt\n",
    "\n",
    "import numpy as np\n",
    "import rasterio\n",
    "from rasterio.plot import show\n",
    "from rasterio.warp import transform_bounds\n",
    "from rasterio.windows import Window\n",
    "from rasterio.crs import CRS\n",
    "from skimage import exposure\n",
    "from scipy.ndimage import morphology\n",
    "from scipy.ndimage.filters import uniform_filter\n",
    "from scipy.ndimage.measurements import variance\n",
    "\n",
    "np.seterr(divide='ignore', invalid='ignore')\n",
    "\n",
    "%matplotlib inline"
   ]
  },
  {
   "cell_type": "markdown",
   "metadata": {},
   "source": [
    "### Set up project variables"
   ]
  },
  {
   "cell_type": "code",
   "execution_count": 57,
   "metadata": {},
   "outputs": [],
   "source": [
    "with open('filter.json') as f:\n",
    "    filters = json.load(f)\n",
    "    bbox = filters['bbox']\n",
    "\n",
    "# Threshold setting for change detection\n",
    "THRSET = 2 \n",
    "\n",
    "# Windows sizes for filtering\n",
    "MORPHWINSIZE = 3 # window size for Morphological filtering\n",
    "FILTSIZE = 3 # window size for speckle filter"
   ]
  },
  {
   "cell_type": "markdown",
   "metadata": {},
   "source": [
    "### Function to apply speckle filtering"
   ]
  },
  {
   "cell_type": "code",
   "execution_count": 58,
   "metadata": {},
   "outputs": [],
   "source": [
    "def lee_filter(img, size):\n",
    "    img_mean = uniform_filter(img, (size, size))\n",
    "    img_sqr_mean = uniform_filter(img**2, (size, size))\n",
    "    img_variance = img_sqr_mean - img_mean**2\n",
    "\n",
    "    overall_variance = variance(img)\n",
    "\n",
    "    img_weights = img_variance / (img_variance + overall_variance)\n",
    "    img_output = img_mean + img_weights * (img - img_mean)\n",
    "    return img_output"
   ]
  },
  {
   "cell_type": "markdown",
   "metadata": {},
   "source": [
    "### Use the API to search for Capella SAR data"
   ]
  },
  {
   "cell_type": "code",
   "execution_count": 59,
   "metadata": {},
   "outputs": [],
   "source": [
    "result = ! rio capella --credentials credentials.json --area filter.json --collection rotterdam-aerial-mosaic --limit 50 query\n",
    "fc = json.loads(result[0])\n",
    "features = fc['features']"
   ]
  },
  {
   "cell_type": "markdown",
   "metadata": {},
   "source": [
    "### Build a change heatmap from the time series\n",
    "\n",
    "Ingests images two at a time by reading only the area within the bounding box from the cloud optimized geotiffs, speckle filters the images, performs log ratio change detection, thresholds and saves detection map into an accumulator, process repeats through all image pairs and builds a heatmap of change"
   ]
  },
  {
   "cell_type": "code",
   "execution_count": 60,
   "metadata": {},
   "outputs": [],
   "source": [
    "# utility for reading clipped image and applying a lee despeckle filter\n",
    "def clipped_read(fid):\n",
    "    with rasterio.Env():\n",
    "        with rasterio.open(fid) as src:        \n",
    "            meta = src.meta\n",
    "            native_bounds = transform_bounds(CRS.from_epsg(4326), src.crs, *bbox)        \n",
    "            bounds_window = src.window(*native_bounds)\n",
    "            bounds_window = bounds_window.intersection(Window(0, 0, src.width, src.height))\n",
    "\n",
    "            img = src.read(1, window=bounds_window)\n",
    "\n",
    "            img[img == meta['nodata']] = 0\n",
    "\n",
    "            lee_filt_img = lee_filter(img, FILTSIZE)\n",
    "            return lee_filt_img"
   ]
  },
  {
   "cell_type": "code",
   "execution_count": null,
   "metadata": {},
   "outputs": [],
   "source": [
    "# Read files in two at a time and speckle filters\n",
    "for i in range(0, len(features) - 1):\n",
    "    ft1 = features[i]\n",
    "    ft2 = features[i+1]\n",
    "    fid1 = f\"tiledb://capellaspace/{ft1['collection']}_{ft1['id']}\"\n",
    "    fid2 = f\"tiledb://capellaspace/{ft2['collection']}_{ft2['id']}\"\n",
    "    \n",
    "    img1 = clipped_read(fid1)\n",
    "    img2 = clipped_read(fid2)\n",
    "        \n",
    "    # Calculate the log ratio of image pairs\n",
    "    dIx = np.log(img2/img1)\n",
    "    \n",
    "    # Statistics and thresholding\n",
    "    # Thresholding is empirically derived, requires manual adjustment of THRSET constant\n",
    "    thr = np.nanmean(dIx) + THRSET*np.nanstd(dIx)\n",
    "    dIx[dIx < thr] = 0.0\n",
    "    dIx[dIx > thr] = 1.0\n",
    "\n",
    "    # Morphological opening to reduce false alarms    \n",
    "    w = (MORPHWINSIZE, MORPHWINSIZE)\n",
    "    dIx = morphology.grey_opening(dIx, size=w)\n",
    "    \n",
    "    # Build accumulator\n",
    "    if i == 0:\n",
    "        cd = dIx\n",
    "    else:\n",
    "        cd += dIx"
   ]
  },
  {
   "cell_type": "markdown",
   "metadata": {},
   "source": [
    "### Display the change detection result"
   ]
  },
  {
   "cell_type": "code",
   "execution_count": null,
   "metadata": {},
   "outputs": [],
   "source": [
    "ft = features[0]\n",
    "\n",
    "with rasterio.Env():\n",
    "    fid = f\"tiledb://capellaspace/{ft['collection']}_{ft['id']}\"\n",
    "    ci = clipped_read(fid)\n",
    "    ci = exposure.adjust_log(ci, gain=10)\n",
    "\n",
    "rcParams['figure.figsize'] = 10,5\n",
    "fig, ax = plt.subplots(1,2)\n",
    "ax[0].imshow(ci, 'gray');\n",
    "ax[0].set_title(\"Context Image\");\n",
    "ax[1].imshow(cd);\n",
    "ax[1].set_title(\"Change Detection Heatmap\");"
   ]
  },
  {
   "cell_type": "code",
   "execution_count": null,
   "metadata": {},
   "outputs": [],
   "source": []
  }
 ],
 "metadata": {
  "kernelspec": {
   "display_name": "Python 3",
   "language": "python",
   "name": "python3"
  },
  "language_info": {
   "codemirror_mode": {
    "name": "ipython",
    "version": 3
   },
   "file_extension": ".py",
   "mimetype": "text/x-python",
   "name": "python",
   "nbconvert_exporter": "python",
   "pygments_lexer": "ipython3",
   "version": "3.7.6"
  }
 },
 "nbformat": 4,
 "nbformat_minor": 4
}
